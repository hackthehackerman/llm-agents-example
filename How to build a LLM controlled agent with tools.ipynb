{
 "cells": [
  {
   "cell_type": "code",
   "execution_count": 1,
   "id": "4541550b",
   "metadata": {},
   "outputs": [
    {
     "name": "stdout",
     "output_type": "stream",
     "text": [
      "Requirement already satisfied: openai in /opt/homebrew/lib/python3.11/site-packages (0.27.2)\n",
      "Requirement already satisfied: requests in /opt/homebrew/lib/python3.11/site-packages (2.28.2)\n",
      "Requirement already satisfied: tqdm in /opt/homebrew/lib/python3.11/site-packages (from openai) (4.65.0)\n",
      "Requirement already satisfied: aiohttp in /opt/homebrew/lib/python3.11/site-packages (from openai) (3.8.4)\n",
      "Requirement already satisfied: charset-normalizer<4,>=2 in /opt/homebrew/lib/python3.11/site-packages (from requests) (3.1.0)\n",
      "Requirement already satisfied: idna<4,>=2.5 in /opt/homebrew/lib/python3.11/site-packages (from requests) (3.4)\n",
      "Requirement already satisfied: urllib3<1.27,>=1.21.1 in /opt/homebrew/lib/python3.11/site-packages (from requests) (1.26.15)\n",
      "Requirement already satisfied: certifi>=2017.4.17 in /opt/homebrew/lib/python3.11/site-packages (from requests) (2022.12.7)\n",
      "Requirement already satisfied: attrs>=17.3.0 in /opt/homebrew/lib/python3.11/site-packages (from aiohttp->openai) (22.2.0)\n",
      "Requirement already satisfied: multidict<7.0,>=4.5 in /opt/homebrew/lib/python3.11/site-packages (from aiohttp->openai) (6.0.4)\n",
      "Requirement already satisfied: async-timeout<5.0,>=4.0.0a3 in /opt/homebrew/lib/python3.11/site-packages (from aiohttp->openai) (4.0.2)\n",
      "Requirement already satisfied: yarl<2.0,>=1.0 in /opt/homebrew/lib/python3.11/site-packages (from aiohttp->openai) (1.8.2)\n",
      "Requirement already satisfied: frozenlist>=1.1.1 in /opt/homebrew/lib/python3.11/site-packages (from aiohttp->openai) (1.3.3)\n",
      "Requirement already satisfied: aiosignal>=1.1.2 in /opt/homebrew/lib/python3.11/site-packages (from aiohttp->openai) (1.3.1)\n",
      "\n",
      "\u001b[1m[\u001b[0m\u001b[34;49mnotice\u001b[0m\u001b[1;39;49m]\u001b[0m\u001b[39;49m A new release of pip is available: \u001b[0m\u001b[31;49m23.0.1\u001b[0m\u001b[39;49m -> \u001b[0m\u001b[32;49m23.1.2\u001b[0m\n",
      "\u001b[1m[\u001b[0m\u001b[34;49mnotice\u001b[0m\u001b[1;39;49m]\u001b[0m\u001b[39;49m To update, run: \u001b[0m\u001b[32;49mpython3.11 -m pip install --upgrade pip\u001b[0m\n",
      "Note: you may need to restart the kernel to use updated packages.\n"
     ]
    }
   ],
   "source": [
    "pip install openai requests"
   ]
  },
  {
   "cell_type": "code",
   "execution_count": 2,
   "id": "96d14799",
   "metadata": {},
   "outputs": [],
   "source": [
    "import openai\n",
    "import re\n",
    "import json\n",
    "import requests\n",
    "import os\n",
    "\n",
    "openai.api_base = \"https://oai.hconeai.com/v1\"\n",
    "# uncomment the next line with your own openai api key\n",
    "openai.api_key = os.getenv('OPENAI_API_KEY')"
   ]
  },
  {
   "cell_type": "code",
   "execution_count": 3,
   "id": "6878e4c0",
   "metadata": {},
   "outputs": [],
   "source": [
    "def get_completion(prompt, model=\"gpt-4\", stop=None):\n",
    "    messages = [{\"role\":\"user\",\"content\":prompt}]\n",
    "    response = openai.ChatCompletion.create(\n",
    "        model = model,\n",
    "        messages = messages,\n",
    "        temperature = 0,\n",
    "        stop = stop,\n",
    "    )\n",
    "    return response.choices[0].message.content"
   ]
  },
  {
   "cell_type": "code",
   "execution_count": 4,
   "id": "ddcf2c41",
   "metadata": {},
   "outputs": [
    {
     "data": {
      "text/plain": [
       "\"Why don't scientists trust atoms? Because they make up everything!\""
      ]
     },
     "execution_count": 4,
     "metadata": {},
     "output_type": "execute_result"
    }
   ],
   "source": [
    "get_completion(\"tell me a funny joke!\")"
   ]
  },
  {
   "cell_type": "code",
   "execution_count": 5,
   "id": "cfae5ca8",
   "metadata": {},
   "outputs": [],
   "source": [
    "class Tool():\n",
    "    def __init__(self, name, description, prompt):\n",
    "        self.name = name\n",
    "        self.description = description\n",
    "\n",
    "    def run(self, tool_input):\n",
    "        pass"
   ]
  },
  {
   "cell_type": "code",
   "execution_count": 6,
   "id": "67a25174",
   "metadata": {},
   "outputs": [],
   "source": [
    "import sys\n",
    "from io import StringIO\n",
    "class PythonREPLTool(Tool):\n",
    "    def __init__(self):\n",
    "        self.name = \"Python REPL\"\n",
    "        self.description = \"\"\"\n",
    "        A Python shell. Use this to execute python commands. \n",
    "        Input should be a valid python program.\n",
    "        If you want to see the output of a value, you should print it out with `print(...).`\n",
    "        \"\"\"\n",
    "    \n",
    "    def run(self, tool_input):\n",
    "        old_stdout = sys.stdout\n",
    "        sys.stdout = mystdout = StringIO()\n",
    "        try:\n",
    "            exec(tool_input.strip().strip(\"```python\").strip(\"```\"), globals(), None)\n",
    "            sys.stdout = old_stdout\n",
    "            output = mystdout.getvalue()\n",
    "        except Exception as e:\n",
    "            sys.stdout = old_stdout\n",
    "            output = str(e)\n",
    "        return output\n",
    "        \n"
   ]
  },
  {
   "cell_type": "code",
   "execution_count": 7,
   "id": "ac6ab322",
   "metadata": {},
   "outputs": [],
   "source": [
    "class Agent():\n",
    "    def __init__(self, tools):\n",
    "        self.prompt_template = \"\"\"Answer the question as best as you can using the following tools: \n",
    "\n",
    "{tool_description}\n",
    "\n",
    "Use the following format:\n",
    "\n",
    "Question: the input question you must answer\n",
    "Thought: you should always think about what to do\n",
    "Action: the action to take, exactly one element of [{tool_names}]\n",
    "Action Input: the input to the action\n",
    "Observation: the result of the action\n",
    "... (this Thought/Action/Action Input/Observation repeats N times, use it until you are sure of the answer)\n",
    "Thought: I now know the final answer\n",
    "Final Answer: your final answer to the original input question\n",
    "\n",
    "Begin!\n",
    "\n",
    "Question: {question}\n",
    "\"\"\"\n",
    "        self.tools = tools\n",
    "\n",
    "    def run(self, question):\n",
    "        prompt = self.prompt_template.format(\n",
    "            tool_description= \"\\n\".join([f\"{tool.name}: {tool.description}\" for tool in self.tools]),\n",
    "            tool_names = \",\".join([tool.name for tool in self.tools]),\n",
    "            question = question,\n",
    "        )\n",
    "        final_answer = None\n",
    "        while not final_answer:\n",
    "            response = get_completion(prompt, stop=['Observation','\\nObservation'])\n",
    "            tool, tool_input, final_answer = self.__parse(response)\n",
    "            if final_answer:\n",
    "                break\n",
    "            else:\n",
    "                tool_by_names = {tool.name: tool for tool in self.tools}\n",
    "                tool_result = tool_by_names[tool].run(tool_input)\n",
    "                prompt += response\n",
    "                prompt += f\"\\nObservation: {tool_result}\\n\"\n",
    "                print(prompt)\n",
    "                \n",
    "        return final_answer\n",
    "        \n",
    "        \n",
    "    def __parse(self, response):\n",
    "        # return Action, Action Input, Final Answer\n",
    "        if \"Final Answer\" in response:\n",
    "            return None, None, response.split(\"Final Answer:\")[-1].strip()\n",
    "        else:\n",
    "            regex = r\"Action: [\\[]?(.*?)[\\]]?[\\n]*Action Input:[\\s]*(.*)\"\n",
    "            match = re.search(regex, response, re.DOTALL)\n",
    "            if not match:\n",
    "                raise ValueError(f\"Output of LLM is not parsable for next tool use: `{response}`\")\n",
    "            tool = match.group(1).strip()\n",
    "            tool_input = match.group(2)\n",
    "            return tool, tool_input, None\n",
    "        \n",
    "        \n"
   ]
  },
  {
   "cell_type": "code",
   "execution_count": 8,
   "id": "9ec86864",
   "metadata": {},
   "outputs": [
    {
     "name": "stdout",
     "output_type": "stream",
     "text": [
      "Answer the question as best as you can using the following tools: \n",
      "\n",
      "Python REPL: \n",
      "        A Python shell. Use this to execute python commands. \n",
      "        Input should be a valid python program.\n",
      "        If you want to see the output of a value, you should print it out with `print(...).`\n",
      "        \n",
      "\n",
      "Use the following format:\n",
      "\n",
      "Question: the input question you must answer\n",
      "Thought: you should always think about what to do\n",
      "Action: the action to take, exactly one element of [Python REPL]\n",
      "Action Input: the input to the action\n",
      "Observation: the result of the action\n",
      "... (this Thought/Action/Action Input/Observation repeats N times, use it until you are sure of the answer)\n",
      "Thought: I now know the final answer\n",
      "Final Answer: your final answer to the original input question\n",
      "\n",
      "Begin!\n",
      "\n",
      "Question: Show me all the prime numbers < 100\n",
      "Thought: I need to write a function to check if a number is prime and then use it to find all prime numbers less than 100.\n",
      "Action: Python REPL\n",
      "Action Input: \n",
      "```python\n",
      "def is_prime(n):\n",
      "    if n < 2:\n",
      "        return False\n",
      "    for i in range(2, n):\n",
      "        if n % i == 0:\n",
      "            return False\n",
      "    return True\n",
      "\n",
      "prime_numbers = [x for x in range(100) if is_prime(x)]\n",
      "print(prime_numbers)\n",
      "```\n",
      "Observation: [2, 3, 5, 7, 11, 13, 17, 19, 23, 29, 31, 37, 41, 43, 47, 53, 59, 61, 67, 71, 73, 79, 83, 89, 97]\n",
      "\n",
      "\n"
     ]
    },
    {
     "data": {
      "text/plain": [
       "'The prime numbers less than 100 are [2, 3, 5, 7, 11, 13, 17, 19, 23, 29, 31, 37, 41, 43, 47, 53, 59, 61, 67, 71, 73, 79, 83, 89, 97].'"
      ]
     },
     "execution_count": 8,
     "metadata": {},
     "output_type": "execute_result"
    }
   ],
   "source": [
    "codeAgent = Agent(tools=[PythonREPLTool()])\n",
    "codeAgent.run(\"Show me all the prime numbers < 100\")"
   ]
  },
  {
   "cell_type": "code",
   "execution_count": 9,
   "id": "e7357ced",
   "metadata": {},
   "outputs": [],
   "source": [
    "class ClickUpTool(Tool):\n",
    "    def __init__(self):\n",
    "        self.name = \"Click up\"\n",
    "        self.description = \"\"\"\n",
    "        A tool to create new tasks in the click up app. \n",
    "        Input must be a list of valid json objects in this format {name: the name of the new task, description: the description of the task}.\n",
    "        Here's an example [{\"name\": \"cool task\", \"description\": \"cool description\"}]\n",
    "        \"\"\"\n",
    "        self.api_key = os.getenv('CLICKUP_API_KEY')\n",
    "        self.list_id = os.getenv('CLICKUP_LIST_ID')\n",
    "\n",
    "        \n",
    "    def run(self, tool_input):\n",
    "        input_array = json.loads(tool_input.strip().strip(\"```\"))\n",
    "        result = []\n",
    "        for task in input_array:\n",
    "            r = requests.post(f\"https://api.clickup.com/api/v2/list/{self.list_id }/task\" ,data=task, headers={\"Authorization\":self.api_key})\n",
    "            result.append((r.status_code, r.reason))\n",
    "        return result"
   ]
  },
  {
   "cell_type": "code",
   "execution_count": 10,
   "id": "1567869f",
   "metadata": {},
   "outputs": [
    {
     "name": "stdout",
     "output_type": "stream",
     "text": [
      "Answer the question as best as you can using the following tools: \n",
      "\n",
      "Python REPL: \n",
      "        A Python shell. Use this to execute python commands. \n",
      "        Input should be a valid python program.\n",
      "        If you want to see the output of a value, you should print it out with `print(...).`\n",
      "        \n",
      "Click up: \n",
      "        A tool to create new tasks in the click up app. \n",
      "        Input must be a list of valid json objects in this format {name: the name of the new task, description: the description of the task}.\n",
      "        Here's an example [{\"name\": \"cool task\", \"description\": \"cool description\"}]\n",
      "        \n",
      "\n",
      "Use the following format:\n",
      "\n",
      "Question: the input question you must answer\n",
      "Thought: you should always think about what to do\n",
      "Action: the action to take, exactly one element of [Python REPL,Click up]\n",
      "Action Input: the input to the action\n",
      "Observation: the result of the action\n",
      "... (this Thought/Action/Action Input/Observation repeats N times, use it until you are sure of the answer)\n",
      "Thought: I now know the final answer\n",
      "Final Answer: your final answer to the original input question\n",
      "\n",
      "Begin!\n",
      "\n",
      "Question: generate 5 ideas for Podium's AI hackathon, then add them as new task to click up\n",
      "Thought: I need to come up with 5 ideas for Podium's AI hackathon.\n",
      "Thought: I will brainstorm 5 ideas for the hackathon.\n",
      "\n",
      "Idea 1: AI-powered customer sentiment analysis tool\n",
      "Description: A tool that analyzes customer reviews and feedback to determine overall sentiment and identify areas for improvement.\n",
      "\n",
      "Idea 2: AI chatbot for customer support\n",
      "Description: A chatbot that can handle common customer support queries, reducing the workload for human support agents.\n",
      "\n",
      "Idea 3: AI-driven content recommendation engine\n",
      "Description: A system that recommends personalized content to users based on their browsing history and preferences.\n",
      "\n",
      "Idea 4: AI-based fraud detection system\n",
      "Description: A system that uses machine learning algorithms to detect and prevent fraudulent transactions in real-time.\n",
      "\n",
      "Idea 5: AI-powered inventory management system\n",
      "Description: An inventory management system that uses AI to predict demand and optimize stock levels.\n",
      "\n",
      "Thought: Now that I have 5 ideas, I will add them as new tasks to Click up.\n",
      "Action: Click up\n",
      "Action Input: [{\"name\": \"AI-powered customer sentiment analysis tool\", \"description\": \"A tool that analyzes customer reviews and feedback to determine overall sentiment and identify areas for improvement.\"}, {\"name\": \"AI chatbot for customer support\", \"description\": \"A chatbot that can handle common customer support queries, reducing the workload for human support agents.\"}, {\"name\": \"AI-driven content recommendation engine\", \"description\": \"A system that recommends personalized content to users based on their browsing history and preferences.\"}, {\"name\": \"AI-based fraud detection system\", \"description\": \"A system that uses machine learning algorithms to detect and prevent fraudulent transactions in real-time.\"}, {\"name\": \"AI-powered inventory management system\", \"description\": \"An inventory management system that uses AI to predict demand and optimize stock levels.\"}]\n",
      "Observation: [(200, 'OK'), (200, 'OK'), (200, 'OK'), (200, 'OK'), (200, 'OK')]\n",
      "\n"
     ]
    },
    {
     "data": {
      "text/plain": [
       "\"I have generated 5 ideas for Podium's AI hackathon and added them as new tasks to Click up.\""
      ]
     },
     "execution_count": 10,
     "metadata": {},
     "output_type": "execute_result"
    }
   ],
   "source": [
    "clickupAgent = Agent(tools=[PythonREPLTool(), ClickUpTool()])\n",
    "clickupAgent.run(\"generate 5 ideas for Podium's AI hackathon, then add them as new task to click up\")"
   ]
  },
  {
   "cell_type": "code",
   "execution_count": null,
   "id": "4e4f694e",
   "metadata": {},
   "outputs": [],
   "source": []
  }
 ],
 "metadata": {
  "kernelspec": {
   "display_name": ".venv",
   "language": "python",
   "name": ".venv"
  },
  "language_info": {
   "codemirror_mode": {
    "name": "ipython",
    "version": 3
   },
   "file_extension": ".py",
   "mimetype": "text/x-python",
   "name": "python",
   "nbconvert_exporter": "python",
   "pygments_lexer": "ipython3",
   "version": "3.11.2"
  }
 },
 "nbformat": 4,
 "nbformat_minor": 5
}
